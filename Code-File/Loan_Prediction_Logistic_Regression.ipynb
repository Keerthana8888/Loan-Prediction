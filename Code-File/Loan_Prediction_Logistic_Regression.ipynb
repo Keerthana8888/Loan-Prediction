{
  "nbformat": 4,
  "nbformat_minor": 0,
  "metadata": {
    "colab": {
      "private_outputs": true,
      "provenance": [],
      "authorship_tag": "ABX9TyPE6Qor8LALF71c9vqIQ2hv",
      "include_colab_link": true
    },
    "kernelspec": {
      "name": "python3",
      "display_name": "Python 3"
    },
    "language_info": {
      "name": "python"
    }
  },
  "cells": [
    {
      "cell_type": "markdown",
      "metadata": {
        "id": "view-in-github",
        "colab_type": "text"
      },
      "source": [
        "<a href=\"https://colab.research.google.com/github/Keerthana8888/Loan-Prediction/blob/main/Code-File/Loan_Prediction_Logistic_Regression.ipynb\" target=\"_parent\"><img src=\"https://colab.research.google.com/assets/colab-badge.svg\" alt=\"Open In Colab\"/></a>"
      ]
    },
    {
      "cell_type": "markdown",
      "source": [
        "1. Load the data and the libraries\n",
        "2. Data preparation and data preprocessing\n",
        "3. Data Visualization\n",
        "4. Data Analysis\n",
        "   1. Uni-Variate Analysis\n",
        "   2. Bi-Variate (Correlation & Chi-Squared)\n",
        "   3. Multi-Variate\n",
        "      1. Supervised\n",
        "         1. Classification (Y is discrete)\n",
        "         2. Regression (Y is continuous)\n",
        "      2. Unsupervised\n",
        "         1. Clustering\n",
        "         2. Dimensionality Reduction"
      ],
      "metadata": {
        "id": "ucJGPywa8q-S"
      }
    },
    {
      "cell_type": "markdown",
      "source": [
        "# Load the Data and the Libraries"
      ],
      "metadata": {
        "id": "KuyvoJLZ9Ne3"
      }
    },
    {
      "cell_type": "markdown",
      "source": [
        "Load the Libraries"
      ],
      "metadata": {
        "id": "lPzbmLbSAaXh"
      }
    },
    {
      "cell_type": "code",
      "source": [
        "import pandas as pd\n",
        "import numpy as np\n",
        "import matplotlib.pyplot as plt\n",
        "import seaborn as sns\n",
        "from scipy.stats import chi2_contingency\n",
        "from sklearn.model_selection import train_test_split\n",
        "from sklearn.linear_model import LogisticRegression\n",
        "from sklearn.metrics import confusion_matrix, classification_report, accuracy_score"
      ],
      "metadata": {
        "id": "y8_0yRmx-5Dx"
      },
      "execution_count": null,
      "outputs": []
    },
    {
      "cell_type": "markdown",
      "source": [
        "Load the Data"
      ],
      "metadata": {
        "id": "ThmE1DREAfHG"
      }
    },
    {
      "cell_type": "code",
      "source": [
        "train=pd.read_csv('/content/train_ctrUa4K (4).csv')\n",
        "test=pd.read_csv('/content/test_lAUu6dG (4).csv')"
      ],
      "metadata": {
        "id": "1MDnOgio9gii"
      },
      "execution_count": null,
      "outputs": []
    },
    {
      "cell_type": "code",
      "source": [
        "train.info()"
      ],
      "metadata": {
        "id": "bXx8_vQT_-_I"
      },
      "execution_count": null,
      "outputs": []
    },
    {
      "cell_type": "code",
      "source": [
        "train.head()"
      ],
      "metadata": {
        "id": "tRKP9txnAOAj"
      },
      "execution_count": null,
      "outputs": []
    },
    {
      "cell_type": "code",
      "source": [
        "test.info()"
      ],
      "metadata": {
        "id": "HZI_hpAeCodH"
      },
      "execution_count": null,
      "outputs": []
    },
    {
      "cell_type": "code",
      "source": [
        "test.head()"
      ],
      "metadata": {
        "id": "H_MNnJ4OC-oJ"
      },
      "execution_count": null,
      "outputs": []
    },
    {
      "cell_type": "markdown",
      "source": [
        "# Exploratory Data Analysis"
      ],
      "metadata": {
        "id": "eUiHWWBXCumm"
      }
    },
    {
      "cell_type": "code",
      "source": [
        "train.describe()"
      ],
      "metadata": {
        "id": "AOGd4V7RC4Tl"
      },
      "execution_count": null,
      "outputs": []
    },
    {
      "cell_type": "markdown",
      "source": [
        "# Uni-Varient"
      ],
      "metadata": {
        "id": "bealjpGU8kOB"
      }
    },
    {
      "cell_type": "code",
      "source": [
        "sns.distplot(train['ApplicantIncome'], kde=True)"
      ],
      "metadata": {
        "id": "Bunondr8DFt6"
      },
      "execution_count": null,
      "outputs": []
    },
    {
      "cell_type": "code",
      "source": [
        "sns.kdeplot(data=train, x=\"ApplicantIncome\", hue=\"Loan_Status\", multiple=\"stack\")"
      ],
      "metadata": {
        "id": "o25W8mf22LTw"
      },
      "execution_count": null,
      "outputs": []
    },
    {
      "cell_type": "code",
      "source": [
        "sns.kdeplot(data=train, x=\"CoapplicantIncome\", hue=\"Loan_Status\", multiple=\"stack\")"
      ],
      "metadata": {
        "id": "kKyzczwZ3z0k"
      },
      "execution_count": null,
      "outputs": []
    },
    {
      "cell_type": "code",
      "source": [
        "sns.kdeplot(data=train, x=\"LoanAmount\", hue=\"Loan_Status\", multiple=\"stack\")"
      ],
      "metadata": {
        "id": "EUV2G-qD6CP5"
      },
      "execution_count": null,
      "outputs": []
    },
    {
      "cell_type": "code",
      "source": [
        "sns.kdeplot(data=train, x=\"Loan_Amount_Term\", hue=\"Loan_Status\", multiple=\"stack\")"
      ],
      "metadata": {
        "id": "1ko-nEgT6OFh"
      },
      "execution_count": null,
      "outputs": []
    },
    {
      "cell_type": "markdown",
      "source": [
        "as an then it is overlaped the income doesnt matter in this case"
      ],
      "metadata": {
        "id": "JulkUfa96AU5"
      }
    },
    {
      "cell_type": "code",
      "source": [
        "train['Loan_Status'].value_counts()"
      ],
      "metadata": {
        "id": "t0DOv_fe7Py4"
      },
      "execution_count": null,
      "outputs": []
    },
    {
      "cell_type": "code",
      "source": [
        "sns.heatmap(train.corr(),annot=True)"
      ],
      "metadata": {
        "id": "IQW7MfnO7f_V"
      },
      "execution_count": null,
      "outputs": []
    },
    {
      "cell_type": "markdown",
      "source": [
        "# Bi-Varient"
      ],
      "metadata": {
        "id": "vBiTtqyu8bY0"
      }
    },
    {
      "cell_type": "code",
      "source": [
        "from scipy.stats import chi2_contingency\n",
        "def chi_sq(var1, var2):\n",
        "  \"\"\"Check for Categorical Variable Relationship\"\"\"\n",
        "  table = pd.crosstab(var1, var2)\n",
        "  _,p,_,_ = chi2_contingency(table)\n",
        "  if p <= 0.05:\n",
        "    print('Accept the Alternate Hypothesis', round(p,2))\n",
        "  else:\n",
        "    print('Failed to reject the null Hypothesis', round(p,2))\n",
        "  return table"
      ],
      "metadata": {
        "id": "hDQtB2y-7o1N"
      },
      "execution_count": null,
      "outputs": []
    },
    {
      "cell_type": "markdown",
      "source": [
        "\n",
        "\n",
        "*   Null Hypothesis : Gender and Load Status anr independent\n",
        "*   Alternate Hypothesis : Gender and Load Status are dependent\n",
        "\n"
      ],
      "metadata": {
        "id": "XdNyEIA8-Fi1"
      }
    },
    {
      "cell_type": "code",
      "source": [
        "pd.crosstab(train['Gender'], train['Loan_Status'])"
      ],
      "metadata": {
        "id": "DpsA9tct9LYF"
      },
      "execution_count": null,
      "outputs": []
    },
    {
      "cell_type": "code",
      "source": [
        "train['Gender'].value_counts()"
      ],
      "metadata": {
        "id": "7HlrKznTAbmB"
      },
      "execution_count": null,
      "outputs": []
    },
    {
      "cell_type": "code",
      "source": [
        "chi_sq(train['Loan_Status'], train['Gender'])"
      ],
      "metadata": {
        "id": "ABoJqTm6Ad_D"
      },
      "execution_count": null,
      "outputs": []
    },
    {
      "cell_type": "code",
      "source": [
        "chi_sq(train['Loan_Status'], train['Property_Area'])"
      ],
      "metadata": {
        "id": "55qnzEYsAo6G"
      },
      "execution_count": null,
      "outputs": []
    },
    {
      "cell_type": "code",
      "source": [
        "chi_sq(train['Loan_Status'], train['Married'])"
      ],
      "metadata": {
        "id": "YpcsQ2gQBdfP"
      },
      "execution_count": null,
      "outputs": []
    },
    {
      "cell_type": "code",
      "source": [
        "chi_sq(train['Loan_Status'], train['Education'])"
      ],
      "metadata": {
        "id": "7vlSyQl6BiY2"
      },
      "execution_count": null,
      "outputs": []
    },
    {
      "cell_type": "code",
      "source": [
        "chi_sq(train['Loan_Status'], train['Dependents'])"
      ],
      "metadata": {
        "id": "mpV4XGazBxa6"
      },
      "execution_count": null,
      "outputs": []
    },
    {
      "cell_type": "markdown",
      "source": [
        "# Data Preparation"
      ],
      "metadata": {
        "id": "PqqfOV62Dam6"
      }
    },
    {
      "cell_type": "code",
      "source": [
        "def data_prep(data):\n",
        "  #imputation of missing values\n",
        "  data['Gender'] = np.where(data['Gender'].isna(), data['Gender'].mode(dropna=True)[0],data['Gender'])\n",
        "  data['Married'] = np.where(data['Married'].isna(),data['Married'].mode(dropna=True)[0],data['Married'])\n",
        "  data['Dependents'] = np.where(data['Dependents'].isna(),data['Dependents'].mode(dropna=True)[0],data['Dependents'])\n",
        "  data['Dependents'].replace('3+', 3, inplace=True)\n",
        "  data['Self_Employed'] = np.where(data['Self_Employed'].isna(), data['Self_Employed'].mode(dropna=True)[0],data['Self_Employed'])\n",
        "  data['LoanAmount'] = np.where(data['LoanAmount'].isna(),data['LoanAmount'].median(skipna=True),data['LoanAmount'])\n",
        "  data['Loan_Amount_Term'] = np.where(data['Loan_Amount_Term'].isna(),data['Loan_Amount_Term'].median(skipna=True),data['Loan_Amount_Term'])\n",
        "  data['Credit_History'] = np.where(data['Credit_History'].isna(), data['Credit_History'].mode(dropna=True)[0],data['Credit_History'])\n",
        "  data['Credit_History']=data['Credit_History'].astype('int')\n",
        "  data['Dependents']=data['Dependents'].astype('int')\n",
        "  return data"
      ],
      "metadata": {
        "id": "Lk0l59EADBVr"
      },
      "execution_count": null,
      "outputs": []
    },
    {
      "cell_type": "code",
      "source": [
        "data_prep(train)"
      ],
      "metadata": {
        "id": "fnO0_Qy8IPoT"
      },
      "execution_count": null,
      "outputs": []
    },
    {
      "cell_type": "code",
      "source": [
        "train.info()"
      ],
      "metadata": {
        "id": "6PRBmmvLIUSw"
      },
      "execution_count": null,
      "outputs": []
    },
    {
      "cell_type": "code",
      "source": [
        "train['Dependents'].value_counts()"
      ],
      "metadata": {
        "id": "1GOvEXTkJVg_"
      },
      "execution_count": null,
      "outputs": []
    },
    {
      "cell_type": "code",
      "source": [
        "train.columns"
      ],
      "metadata": {
        "id": "tmgHmv-1Jeag"
      },
      "execution_count": null,
      "outputs": []
    },
    {
      "cell_type": "code",
      "source": [
        "train.dtypes"
      ],
      "metadata": {
        "id": "wR-gAfOFLlRa"
      },
      "execution_count": null,
      "outputs": []
    },
    {
      "cell_type": "code",
      "source": [
        "for i in train.columns:\n",
        "  if train[i].dtypes == 'object':\n",
        "    train[i] = np.where(train[i].isna(), train[i].mode(dropna = True)[0], train[i])\n",
        "  else:\n",
        "    train[i] = np.where(train[i].isna(), train[i].median(skipna = True), train[i])"
      ],
      "metadata": {
        "id": "H6E64vx5LqnI"
      },
      "execution_count": null,
      "outputs": []
    },
    {
      "cell_type": "code",
      "source": [
        "train['Dependents'].value_counts()"
      ],
      "metadata": {
        "id": "PWjlZcpENLe8"
      },
      "execution_count": null,
      "outputs": []
    },
    {
      "cell_type": "markdown",
      "source": [
        "# Encoding"
      ],
      "metadata": {
        "id": "MOjjGdWSTUoM"
      }
    },
    {
      "cell_type": "markdown",
      "source": [
        "\n",
        "as and the all the classes is of less than 4 we use lable encoding in this case"
      ],
      "metadata": {
        "id": "KT3QFuWkTdGT"
      }
    },
    {
      "cell_type": "code",
      "source": [
        "from sklearn.preprocessing import LabelEncoder"
      ],
      "metadata": {
        "id": "_LsIenoATYdw"
      },
      "execution_count": null,
      "outputs": []
    },
    {
      "cell_type": "code",
      "source": [
        "def encode(data):\n",
        "  le=LabelEncoder()\n",
        "  for i in data.columns:\n",
        "    if data[i].dtype == 'object':\n",
        "      data[i]=le.fit_transform(data[i])\n",
        "  return data"
      ],
      "metadata": {
        "id": "-neu3XtqT_xr"
      },
      "execution_count": null,
      "outputs": []
    },
    {
      "cell_type": "code",
      "source": [
        "\n",
        "encode(train)"
      ],
      "metadata": {
        "id": "cw3scRHkatKi"
      },
      "execution_count": null,
      "outputs": []
    },
    {
      "cell_type": "markdown",
      "source": [
        "#  Data Split"
      ],
      "metadata": {
        "id": "z7RdaecKWGEa"
      }
    },
    {
      "cell_type": "code",
      "source": [
        "x = train.drop(['Loan_Status','Loan_ID'], axis = 1)\n",
        "y = train['Loan_Status']"
      ],
      "metadata": {
        "id": "pBhhjtVtWJH0"
      },
      "execution_count": null,
      "outputs": []
    },
    {
      "cell_type": "code",
      "source": [
        "x.head()"
      ],
      "metadata": {
        "id": "hpXK0nAcanU4"
      },
      "execution_count": null,
      "outputs": []
    },
    {
      "cell_type": "markdown",
      "source": [
        "# Train Test Split"
      ],
      "metadata": {
        "id": "cXbukkj-W2wp"
      }
    },
    {
      "cell_type": "code",
      "source": [
        "x_train, x_test, y_train, y_test = train_test_split(x,y,test_size=0.2, random_state=123)"
      ],
      "metadata": {
        "id": "4FUxksoRWwFr"
      },
      "execution_count": null,
      "outputs": []
    },
    {
      "cell_type": "code",
      "source": [
        "print(x_train.shape)\n",
        "print(x_test.shape)\n",
        "print(y_train.shape)\n",
        "print(y_test.shape)"
      ],
      "metadata": {
        "id": "VckNwyQNXj-Z"
      },
      "execution_count": null,
      "outputs": []
    },
    {
      "cell_type": "markdown",
      "source": [
        "# Apply Multi-Varient"
      ],
      "metadata": {
        "id": "XrgPBkJlYJjM"
      }
    },
    {
      "cell_type": "code",
      "source": [
        "logreg = LogisticRegression()\n",
        "#fit th model\n",
        "logreg.fit(x_train, y_train)"
      ],
      "metadata": {
        "id": "B-xbXPliXxo_"
      },
      "execution_count": null,
      "outputs": []
    },
    {
      "cell_type": "code",
      "source": [
        "\n",
        "y_train.head()"
      ],
      "metadata": {
        "id": "2Wgz2tjWaMxq"
      },
      "execution_count": null,
      "outputs": []
    },
    {
      "cell_type": "code",
      "source": [
        "logreg.coef_"
      ],
      "metadata": {
        "id": "vfZlM4qCcLJM"
      },
      "execution_count": null,
      "outputs": []
    },
    {
      "cell_type": "code",
      "source": [
        "logreg.intercept_"
      ],
      "metadata": {
        "id": "cyr-NJCLeMTt"
      },
      "execution_count": null,
      "outputs": []
    },
    {
      "cell_type": "code",
      "source": [
        "proba_train=logreg.predict_proba(x_train)\n",
        "proba_train"
      ],
      "metadata": {
        "id": "_7zmR1GUfNXo"
      },
      "execution_count": null,
      "outputs": []
    },
    {
      "cell_type": "code",
      "source": [
        "y_hat_train=logreg.predict(x_train)\n",
        "y_hat_test=logreg.predict(x_test)"
      ],
      "metadata": {
        "id": "fwmAEmjNfv0k"
      },
      "execution_count": null,
      "outputs": []
    },
    {
      "cell_type": "code",
      "source": [
        "y_hat_train"
      ],
      "metadata": {
        "id": "oXJ8VhdQgK64"
      },
      "execution_count": null,
      "outputs": []
    },
    {
      "cell_type": "code",
      "source": [
        "y_train"
      ],
      "metadata": {
        "id": "C4eU-2xggUDO"
      },
      "execution_count": null,
      "outputs": []
    },
    {
      "cell_type": "markdown",
      "source": [
        "# Model Evaluation"
      ],
      "metadata": {
        "id": "XO14wYESrX9B"
      }
    },
    {
      "cell_type": "code",
      "source": [
        "conf_martix = confusion_matrix(y_train, y_hat_train)\n",
        "print(conf_martix)"
      ],
      "metadata": {
        "id": "3qT_Eheqguk1"
      },
      "execution_count": null,
      "outputs": []
    },
    {
      "cell_type": "code",
      "source": [
        "conf_matrix_test = confusion_matrix(y_test, y_hat_test)\n",
        "print(conf_matrix_test)"
      ],
      "metadata": {
        "id": "MOWUqiAusPK-"
      },
      "execution_count": null,
      "outputs": []
    },
    {
      "cell_type": "code",
      "source": [
        "print('Accuracy Score for the test data is:', accuracy_score(y_train, y_hat_train))"
      ],
      "metadata": {
        "id": "Vk7tswdPstx7"
      },
      "execution_count": null,
      "outputs": []
    },
    {
      "cell_type": "code",
      "source": [
        "print('Accuracy Score for the train data is:', accuracy_score(y_test, y_hat_test))"
      ],
      "metadata": {
        "id": "sSiswCyctXtL"
      },
      "execution_count": null,
      "outputs": []
    },
    {
      "cell_type": "code",
      "source": [
        "print(classification_report(y_train, y_hat_train))"
      ],
      "metadata": {
        "id": "P-Ge8Mhotovc"
      },
      "execution_count": null,
      "outputs": []
    },
    {
      "cell_type": "code",
      "source": [
        "print(classification_report(y_test, y_hat_test))"
      ],
      "metadata": {
        "id": "5JKux0gturIE"
      },
      "execution_count": null,
      "outputs": []
    },
    {
      "cell_type": "markdown",
      "source": [
        "# Decision Tree Classifier"
      ],
      "metadata": {
        "id": "YeURm4N91cx2"
      }
    },
    {
      "cell_type": "code",
      "source": [
        "from sklearn.tree import DecisionTreeClassifier\n",
        "dtree=DecisionTreeClassifier()\n",
        "#fit the model\n",
        "dtree.fit(x_train, y_train)"
      ],
      "metadata": {
        "id": "DWSyq2wTuybB"
      },
      "execution_count": null,
      "outputs": []
    },
    {
      "cell_type": "code",
      "source": [
        "y_hat_train_dtree=dtree.predict(x_train)\n",
        "y_hat_test_dtree=dtree.predict(x_test)"
      ],
      "metadata": {
        "id": "n0GU-hQ82FjW"
      },
      "execution_count": null,
      "outputs": []
    },
    {
      "cell_type": "code",
      "source": [
        "def model_eval(actual, predicted):\n",
        "  conf_matrix=confusion_matrix(actual,predicted)\n",
        "  clas_rep=classification_report(actual, predicted)\n",
        "  acc_score=accuracy_score(actual, predicted)\n",
        "  print('The Accuracy of the model is:', round(acc_score,2))\n",
        "  print(conf_matrix)\n",
        "  print(clas_rep)"
      ],
      "metadata": {
        "id": "X8y-heJ52Zhg"
      },
      "execution_count": null,
      "outputs": []
    },
    {
      "cell_type": "code",
      "source": [
        "model_eval(y_train, y_hat_train_dtree)"
      ],
      "metadata": {
        "id": "RfOAsqvJ30yh"
      },
      "execution_count": null,
      "outputs": []
    },
    {
      "cell_type": "markdown",
      "source": [
        "\n",
        "\n",
        "* **train accuracy high na low bias**\n",
        "* **train accuracy low na high bias**\n",
        "\n",
        "here in this case the train is high 1.0 so it is high bias before then we added max depth = 3 and it tends to reduce\n",
        "\n"
      ],
      "metadata": {
        "id": "gGHfhn0_4Ro-"
      }
    },
    {
      "cell_type": "code",
      "source": [
        "model_eval(y_test, y_hat_test_dtree)"
      ],
      "metadata": {
        "id": "MliEc_V2377s"
      },
      "execution_count": null,
      "outputs": []
    },
    {
      "cell_type": "code",
      "source": [
        "from sklearn.tree  import plot_tree\n",
        "import matplotlib.pyplot as plt\n",
        "\n",
        "plt.figure()\n",
        "clf=DecisionTreeClassifier().fit(x_train, y_train)\n",
        "plot_tree(clf,filled=True)\n",
        "plt.title('Decision tree trained on all loan predition features')\n",
        "plt.show()"
      ],
      "metadata": {
        "id": "qWlwPknd4DFK"
      },
      "execution_count": null,
      "outputs": []
    },
    {
      "cell_type": "code",
      "source": [
        "pd.DataFrame({'col_name': dtree.feature_importances_}, index=x.columns).sort_values(by='col_name', ascending=False)"
      ],
      "metadata": {
        "id": "D6lD5a4g-j1i"
      },
      "execution_count": null,
      "outputs": []
    },
    {
      "cell_type": "code",
      "source": [
        "x.columns"
      ],
      "metadata": {
        "id": "qJaLF9IFBmmC"
      },
      "execution_count": null,
      "outputs": []
    },
    {
      "cell_type": "code",
      "source": [
        "dtree.feature_importances_"
      ],
      "metadata": {
        "id": "bpd3XEItBxGV"
      },
      "execution_count": null,
      "outputs": []
    },
    {
      "cell_type": "markdown",
      "source": [
        "# Random Forest Classifier"
      ],
      "metadata": {
        "id": "9osNciBI6s7v"
      }
    },
    {
      "cell_type": "code",
      "source": [
        "from sklearn.ensemble import RandomForestClassifier"
      ],
      "metadata": {
        "id": "sGkXY2wyB4te"
      },
      "execution_count": null,
      "outputs": []
    },
    {
      "cell_type": "code",
      "source": [
        "rf=RandomForestClassifier (n_estimators=150, max_depth=5, verbose=1, oob_score=True)\n",
        "#fit the model\n",
        "rf.fit(x_train, y_train)"
      ],
      "metadata": {
        "id": "gC7rR_SIYjz6"
      },
      "execution_count": null,
      "outputs": []
    },
    {
      "cell_type": "code",
      "source": [
        "y_hat_train_rf=rf.predict(x_train)\n",
        "y_hat_test_rf=rf.predict(x_test)"
      ],
      "metadata": {
        "id": "np4waWW47azd"
      },
      "execution_count": null,
      "outputs": []
    },
    {
      "cell_type": "code",
      "source": [
        "model_eval(y_train, y_hat_train_rf)"
      ],
      "metadata": {
        "id": "ogVy8F7k7rmm"
      },
      "execution_count": null,
      "outputs": []
    },
    {
      "cell_type": "code",
      "source": [
        "model_eval(y_test, y_hat_test_rf)"
      ],
      "metadata": {
        "id": "BMrSUp_Q72Id"
      },
      "execution_count": null,
      "outputs": []
    },
    {
      "cell_type": "markdown",
      "source": [
        "# Appliction On Test Data"
      ],
      "metadata": {
        "id": "6Bw_mCHp-RbL"
      }
    },
    {
      "cell_type": "code",
      "source": [
        "test.head()"
      ],
      "metadata": {
        "id": "DYE1eqn-8DRW"
      },
      "execution_count": null,
      "outputs": []
    },
    {
      "cell_type": "code",
      "source": [
        "data_prep(test)"
      ],
      "metadata": {
        "id": "G8X5bPab-Zhx"
      },
      "execution_count": null,
      "outputs": []
    },
    {
      "cell_type": "code",
      "source": [
        "test.info()"
      ],
      "metadata": {
        "id": "wubshpjKB8zu"
      },
      "execution_count": null,
      "outputs": []
    },
    {
      "cell_type": "code",
      "source": [
        "encode(test)"
      ],
      "metadata": {
        "id": "AJebAy4-CLUL"
      },
      "execution_count": null,
      "outputs": []
    },
    {
      "cell_type": "code",
      "source": [
        "test.info()"
      ],
      "metadata": {
        "id": "2xoIVM0cCcAa"
      },
      "execution_count": null,
      "outputs": []
    },
    {
      "cell_type": "code",
      "source": [
        "test.drop(['Loan_ID'], axis=1, inplace = True)"
      ],
      "metadata": {
        "id": "enSW9AOKCexN"
      },
      "execution_count": null,
      "outputs": []
    },
    {
      "cell_type": "code",
      "source": [
        "test_preds=logreg.predict(test)"
      ],
      "metadata": {
        "id": "wZh88tHQEGCx"
      },
      "execution_count": null,
      "outputs": []
    },
    {
      "cell_type": "code",
      "source": [
        "test_preds"
      ],
      "metadata": {
        "id": "B5misv7qE6-j"
      },
      "execution_count": null,
      "outputs": []
    },
    {
      "cell_type": "markdown",
      "source": [
        "# Submission"
      ],
      "metadata": {
        "id": "zoSEUyA-FPGk"
      }
    },
    {
      "cell_type": "code",
      "source": [
        "submission = pd.read_csv('/content/sample_submission_49d68Cx (2).csv')"
      ],
      "metadata": {
        "id": "a3K9oz4BFLkv"
      },
      "execution_count": null,
      "outputs": []
    },
    {
      "cell_type": "code",
      "source": [
        "submission.head()"
      ],
      "metadata": {
        "id": "HF06WULrFq6q"
      },
      "execution_count": null,
      "outputs": []
    },
    {
      "cell_type": "code",
      "source": [
        "submission['Loan_Status'] = test_preds"
      ],
      "metadata": {
        "id": "5GY_LJATGU91"
      },
      "execution_count": null,
      "outputs": []
    },
    {
      "cell_type": "code",
      "source": [
        "submission.head()"
      ],
      "metadata": {
        "id": "zZduHS2sGe2N"
      },
      "execution_count": null,
      "outputs": []
    },
    {
      "cell_type": "code",
      "source": [
        "submission['Loan_Status'].replace(1, 'Y', inplace=True)\n",
        "submission['Loan_Status'].replace(0, 'N', inplace=True)"
      ],
      "metadata": {
        "id": "y2B9uyyDGhyA"
      },
      "execution_count": null,
      "outputs": []
    },
    {
      "cell_type": "code",
      "source": [
        "submission.head()"
      ],
      "metadata": {
        "id": "5iU4FApLG5ze"
      },
      "execution_count": null,
      "outputs": []
    },
    {
      "cell_type": "code",
      "source": [
        "submission.to_csv('final_submission.csv', index=False)"
      ],
      "metadata": {
        "id": "2DWogyWuG9F0"
      },
      "execution_count": null,
      "outputs": []
    }
  ]
}